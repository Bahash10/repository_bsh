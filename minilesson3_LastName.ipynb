{
 "cells": [
  {
   "cell_type": "markdown",
   "id": "cf3f469c",
   "metadata": {},
   "source": [
    "### Module 0.1 Working with Jupyter Notebook and Canvas\n",
    "\n",
    "#### Try-It 0.1: Starter\n",
    "\n",
    "\n",
    "The starter file will contain instructions and an opportunity for you to complete the code. Complete the code where you see ```????```."
   ]
  },
  {
   "cell_type": "markdown",
   "id": "16c1043e",
   "metadata": {},
   "source": [
    "#### Problem 1\n",
    "\n",
    "Complete the code below to print the string ```'Hello World!'```:"
   ]
  },
  {
   "cell_type": "code",
   "execution_count": 4,
   "id": "eb31ac29",
   "metadata": {},
   "outputs": [
    {
     "name": "stdout",
     "output_type": "stream",
     "text": [
      "HELLO WORLD!\n"
     ]
    }
   ],
   "source": [
    "print('HELLO WORLD!')"
   ]
  },
  {
   "cell_type": "markdown",
   "id": "544186f0",
   "metadata": {},
   "source": [
    "#### Problem 2\n",
    "\n",
    "Some zipped starter/solution/assignment content can also include a folder with files that you will need to complete the work for the activity.  Complete the code below to list the contents of the ```'data'``` directory for this activity:"
   ]
  },
  {
   "cell_type": "code",
   "execution_count": 2,
   "id": "9e7a0e21",
   "metadata": {},
   "outputs": [
    {
     "data": {
      "text/plain": [
       "['HelloWorld.txt.txt']"
      ]
     },
     "execution_count": 2,
     "metadata": {},
     "output_type": "execute_result"
    }
   ],
   "source": [
    "import os\n",
    "\n",
    "os.listdir('data')"
   ]
  },
  {
   "cell_type": "code",
   "execution_count": 6,
   "id": "a659d9c8-8fde-4ff2-aba6-c0ec1e5629b0",
   "metadata": {},
   "outputs": [
    {
     "name": "stdout",
     "output_type": "stream",
     "text": [
      "HOW ARE YOU?\n"
     ]
    }
   ],
   "source": [
    "print('HOW ARE YOU?')"
   ]
  },
  {
   "cell_type": "code",
   "execution_count": null,
   "id": "7648c44b-cc2d-4764-b19c-a67c55bd1705",
   "metadata": {},
   "outputs": [],
   "source": []
  }
 ],
 "metadata": {
  "kernelspec": {
   "display_name": "Python 3 (ipykernel)",
   "language": "python",
   "name": "python3"
  },
  "language_info": {
   "codemirror_mode": {
    "name": "ipython",
    "version": 3
   },
   "file_extension": ".py",
   "mimetype": "text/x-python",
   "name": "python",
   "nbconvert_exporter": "python",
   "pygments_lexer": "ipython3",
   "version": "3.12.7"
  }
 },
 "nbformat": 4,
 "nbformat_minor": 5
}
